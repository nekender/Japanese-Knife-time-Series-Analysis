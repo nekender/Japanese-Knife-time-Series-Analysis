{
 "cells": [
  {
   "cell_type": "markdown",
   "id": "09679f3f",
   "metadata": {},
   "source": [
    "# 1) DATA COLLECTION"
   ]
  },
  {
   "cell_type": "markdown",
   "id": "8177b41b",
   "metadata": {},
   "source": [
    "## A) Amazon.in"
   ]
  },
  {
   "cell_type": "code",
   "execution_count": 1,
   "id": "584a030c",
   "metadata": {},
   "outputs": [],
   "source": [
    "import pandas as pd "
   ]
  },
  {
   "cell_type": "code",
   "execution_count": 2,
   "id": "3cde2cdc",
   "metadata": {},
   "outputs": [],
   "source": [
    "from selenium import webdriver\n",
    "from selenium.webdriver.common.keys import Keys\n",
    "from bs4 import BeautifulSoup \n",
    "from selenium.webdriver.chrome.service import Service"
   ]
  },
  {
   "cell_type": "code",
   "execution_count": 46,
   "id": "864b0598",
   "metadata": {},
   "outputs": [],
   "source": [
    "titles_LT500=[]\n",
    "prices_LT500=[]\n",
    "LT500=[]"
   ]
  },
  {
   "cell_type": "code",
   "execution_count": 47,
   "id": "bd92e249",
   "metadata": {},
   "outputs": [],
   "source": [
    "for i in range(1,13):\n",
    "  i=str(i)\n",
    "  LT500.append(\"https://www.amazon.in/s?k=japanese+knives&i=kitchen&rh=n%3A5925789031%2Cp_36%3A3444810031&dc&page=\"+i+\"&rnid=3444809031&ref=sr_pg_\"+i)"
   ]
  },
  {
   "cell_type": "code",
   "execution_count": 48,
   "id": "577eb5f4",
   "metadata": {},
   "outputs": [],
   "source": [
    "for url in LT500: \n",
    "    driver=webdriver.Chrome('C:\\chromedriver.exe')\n",
    "    driver.get(url)\n",
    "    content=driver.page_source\n",
    "    soup = BeautifulSoup(content)\n",
    "    for article in soup.findAll(attrs={'class':'a-section a-spacing-small puis-padding-left-small puis-padding-right-small'}):\n",
    "        title=article.find('span',attrs={'class':'a-size-base-plus a-color-base a-text-normal'})\n",
    "        price=article.find('span',attrs={'class':'a-offscreen'})\n",
    "        titles_LT500.append(title.text)\n",
    "        prices_LT500.append(price)"
   ]
  },
  {
   "cell_type": "code",
   "execution_count": 49,
   "id": "32bdcda7",
   "metadata": {},
   "outputs": [],
   "source": [
    "LT500=pd.DataFrame({'Title':titles_LT500,'Price':prices_LT500})"
   ]
  },
  {
   "cell_type": "code",
   "execution_count": 50,
   "id": "18a829e4",
   "metadata": {},
   "outputs": [],
   "source": [
    "import re\n",
    "for i in range(47):\n",
    "    LT500['Price']=LT500['Price'].apply(lambda x: re.sub('[^0-9]+', '', str(x)))"
   ]
  },
  {
   "cell_type": "code",
   "execution_count": 51,
   "id": "e209a7c8",
   "metadata": {},
   "outputs": [
    {
     "data": {
      "text/html": [
       "<div>\n",
       "<style scoped>\n",
       "    .dataframe tbody tr th:only-of-type {\n",
       "        vertical-align: middle;\n",
       "    }\n",
       "\n",
       "    .dataframe tbody tr th {\n",
       "        vertical-align: top;\n",
       "    }\n",
       "\n",
       "    .dataframe thead th {\n",
       "        text-align: right;\n",
       "    }\n",
       "</style>\n",
       "<table border=\"1\" class=\"dataframe\">\n",
       "  <thead>\n",
       "    <tr style=\"text-align: right;\">\n",
       "      <th></th>\n",
       "      <th>Title</th>\n",
       "      <th>Price</th>\n",
       "    </tr>\n",
       "  </thead>\n",
       "  <tbody>\n",
       "    <tr>\n",
       "      <th>0</th>\n",
       "      <td>SHIDHMI Premium Stainless Steel Santoku Knife ...</td>\n",
       "      <td>399</td>\n",
       "    </tr>\n",
       "    <tr>\n",
       "      <th>1</th>\n",
       "      <td>SHIDHMI Professional Santoku Stainless Steel K...</td>\n",
       "      <td>349</td>\n",
       "    </tr>\n",
       "    <tr>\n",
       "      <th>2</th>\n",
       "      <td>Guns Ceramic Knife (2 Pack) Santoku Blade Japa...</td>\n",
       "      <td>480</td>\n",
       "    </tr>\n",
       "    <tr>\n",
       "      <th>3</th>\n",
       "      <td>YELONA Japanese Santoku Chef Knife Hollow Shar...</td>\n",
       "      <td>499</td>\n",
       "    </tr>\n",
       "    <tr>\n",
       "      <th>4</th>\n",
       "      <td>JEROXEN Cleaver Knife High Carbon Japanese hig...</td>\n",
       "      <td>299</td>\n",
       "    </tr>\n",
       "    <tr>\n",
       "      <th>...</th>\n",
       "      <td>...</td>\n",
       "      <td>...</td>\n",
       "    </tr>\n",
       "    <tr>\n",
       "      <th>370</th>\n",
       "      <td>Theodore Flower Design Stainless Steel Kitchen...</td>\n",
       "      <td>378</td>\n",
       "    </tr>\n",
       "    <tr>\n",
       "      <th>371</th>\n",
       "      <td>chefmate multi purpose kitchen instrument Fish...</td>\n",
       "      <td>450</td>\n",
       "    </tr>\n",
       "    <tr>\n",
       "      <th>372</th>\n",
       "      <td>THEODORE Stainless Steel Chef Knives Set/Chopp...</td>\n",
       "      <td>429</td>\n",
       "    </tr>\n",
       "    <tr>\n",
       "      <th>373</th>\n",
       "      <td>VATSHVI 1 PCs Crinkle Cut Knife Fork Slicing H...</td>\n",
       "      <td>299</td>\n",
       "    </tr>\n",
       "    <tr>\n",
       "      <th>374</th>\n",
       "      <td>Guns Ceramic Knife (2 Pack) Santoku Blade Japa...</td>\n",
       "      <td>480</td>\n",
       "    </tr>\n",
       "  </tbody>\n",
       "</table>\n",
       "<p>375 rows × 2 columns</p>\n",
       "</div>"
      ],
      "text/plain": [
       "                                                 Title Price\n",
       "0    SHIDHMI Premium Stainless Steel Santoku Knife ...   399\n",
       "1    SHIDHMI Professional Santoku Stainless Steel K...   349\n",
       "2    Guns Ceramic Knife (2 Pack) Santoku Blade Japa...   480\n",
       "3    YELONA Japanese Santoku Chef Knife Hollow Shar...   499\n",
       "4    JEROXEN Cleaver Knife High Carbon Japanese hig...   299\n",
       "..                                                 ...   ...\n",
       "370  Theodore Flower Design Stainless Steel Kitchen...   378\n",
       "371  chefmate multi purpose kitchen instrument Fish...   450\n",
       "372  THEODORE Stainless Steel Chef Knives Set/Chopp...   429\n",
       "373  VATSHVI 1 PCs Crinkle Cut Knife Fork Slicing H...   299\n",
       "374  Guns Ceramic Knife (2 Pack) Santoku Blade Japa...   480\n",
       "\n",
       "[375 rows x 2 columns]"
      ]
     },
     "execution_count": 51,
     "metadata": {},
     "output_type": "execute_result"
    }
   ],
   "source": [
    "LT500"
   ]
  },
  {
   "cell_type": "code",
   "execution_count": 52,
   "id": "6eae1832",
   "metadata": {},
   "outputs": [],
   "source": [
    "titles_GT500LT1000=[]\n",
    "prices_GT500LT1000=[]\n",
    "GT500LT1000=[]\n",
    "for i in range(1,8):\n",
    "  i=str(i)\n",
    "  GT500LT1000.append(\"https://www.amazon.in/s?k=japanese+knives&i=kitchen&rh=n%3A5925789031%2Cp_36%3A3444811031&dc&page=\"+i+\"&rnid=3444809031&ref=sr_pg_\"+i)\n",
    "for url in GT500LT1000: \n",
    "    driver=webdriver.Chrome('C:\\chromedriver.exe')\n",
    "    driver.get(url)\n",
    "    content=driver.page_source\n",
    "    soup = BeautifulSoup(content)\n",
    "    for article in soup.findAll(attrs={'class':'a-section a-spacing-small puis-padding-left-small puis-padding-right-small'}):\n",
    "        title=article.find('span',attrs={'class':'a-size-base-plus a-color-base a-text-normal'})\n",
    "        price=article.find('span',attrs={'class':'a-offscreen'})\n",
    "        titles_GT500LT1000.append(title.text)\n",
    "        prices_GT500LT1000.append(price)"
   ]
  },
  {
   "cell_type": "code",
   "execution_count": 53,
   "id": "8045e911",
   "metadata": {},
   "outputs": [
    {
     "data": {
      "text/html": [
       "<div>\n",
       "<style scoped>\n",
       "    .dataframe tbody tr th:only-of-type {\n",
       "        vertical-align: middle;\n",
       "    }\n",
       "\n",
       "    .dataframe tbody tr th {\n",
       "        vertical-align: top;\n",
       "    }\n",
       "\n",
       "    .dataframe thead th {\n",
       "        text-align: right;\n",
       "    }\n",
       "</style>\n",
       "<table border=\"1\" class=\"dataframe\">\n",
       "  <thead>\n",
       "    <tr style=\"text-align: right;\">\n",
       "      <th></th>\n",
       "      <th>Title</th>\n",
       "      <th>Price</th>\n",
       "    </tr>\n",
       "  </thead>\n",
       "  <tbody>\n",
       "    <tr>\n",
       "      <th>0</th>\n",
       "      <td>AGARO Royal 6 Pcs Kitchen Knife Set with Cover...</td>\n",
       "      <td>971</td>\n",
       "    </tr>\n",
       "    <tr>\n",
       "      <th>1</th>\n",
       "      <td>Shruthi Yingguns Ceramic Knife (2 Pack) Meat C...</td>\n",
       "      <td>647</td>\n",
       "    </tr>\n",
       "    <tr>\n",
       "      <th>2</th>\n",
       "      <td>SHIDHMI Santoku Knife, Kitchen Knife Ultra Sha...</td>\n",
       "      <td>549</td>\n",
       "    </tr>\n",
       "    <tr>\n",
       "      <th>3</th>\n",
       "      <td>Leeonz® Santoku Knife, Kitchen Knife Ultra Sha...</td>\n",
       "      <td>569</td>\n",
       "    </tr>\n",
       "    <tr>\n",
       "      <th>4</th>\n",
       "      <td>ap collection Cutter King 0.2 no Cleaver Knife...</td>\n",
       "      <td>699</td>\n",
       "    </tr>\n",
       "    <tr>\n",
       "      <th>...</th>\n",
       "      <td>...</td>\n",
       "      <td>...</td>\n",
       "    </tr>\n",
       "    <tr>\n",
       "      <th>223</th>\n",
       "      <td>Grizzly 6 pcs Knife Set with Non-Slip Handle f...</td>\n",
       "      <td>599</td>\n",
       "    </tr>\n",
       "    <tr>\n",
       "      <th>224</th>\n",
       "      <td>Durable Spoon, 3Pcs Fork Practical Easy to Use...</td>\n",
       "      <td>544</td>\n",
       "    </tr>\n",
       "    <tr>\n",
       "      <th>225</th>\n",
       "      <td>S.B. ANJALI SHALU BHAI Chef's Knife, 8inch Sta...</td>\n",
       "      <td>888</td>\n",
       "    </tr>\n",
       "    <tr>\n",
       "      <th>226</th>\n",
       "      <td>DANSR Santoku Knife, Kitchen Knife Ultra Sharp...</td>\n",
       "      <td>699</td>\n",
       "    </tr>\n",
       "    <tr>\n",
       "      <th>227</th>\n",
       "      <td>DANSR Kitchen Knife Professional Chef’s Knife,...</td>\n",
       "      <td>599</td>\n",
       "    </tr>\n",
       "  </tbody>\n",
       "</table>\n",
       "<p>228 rows × 2 columns</p>\n",
       "</div>"
      ],
      "text/plain": [
       "                                                 Title Price\n",
       "0    AGARO Royal 6 Pcs Kitchen Knife Set with Cover...   971\n",
       "1    Shruthi Yingguns Ceramic Knife (2 Pack) Meat C...   647\n",
       "2    SHIDHMI Santoku Knife, Kitchen Knife Ultra Sha...   549\n",
       "3    Leeonz® Santoku Knife, Kitchen Knife Ultra Sha...   569\n",
       "4    ap collection Cutter King 0.2 no Cleaver Knife...   699\n",
       "..                                                 ...   ...\n",
       "223  Grizzly 6 pcs Knife Set with Non-Slip Handle f...   599\n",
       "224  Durable Spoon, 3Pcs Fork Practical Easy to Use...   544\n",
       "225  S.B. ANJALI SHALU BHAI Chef's Knife, 8inch Sta...   888\n",
       "226  DANSR Santoku Knife, Kitchen Knife Ultra Sharp...   699\n",
       "227  DANSR Kitchen Knife Professional Chef’s Knife,...   599\n",
       "\n",
       "[228 rows x 2 columns]"
      ]
     },
     "execution_count": 53,
     "metadata": {},
     "output_type": "execute_result"
    }
   ],
   "source": [
    "GT500LT1000=pd.DataFrame({'Title':titles_GT500LT1000,'Price':prices_GT500LT1000})\n",
    "import re\n",
    "for i in range(47):\n",
    "    GT500LT1000['Price']=GT500LT1000['Price'].apply(lambda x: re.sub('[^0-9]+', '', str(x)))\n",
    "GT500LT1000"
   ]
  },
  {
   "cell_type": "code",
   "execution_count": 56,
   "id": "d9ff1654",
   "metadata": {},
   "outputs": [],
   "source": [
    "titles_GT1000LT2000=[]\n",
    "prices_GT1000LT2000=[]\n",
    "GT1000LT2000=[]\n",
    "for i in range(1,5):\n",
    "  i=str(i)\n",
    "  GT1000LT2000.append(\"https://www.amazon.in/s?k=japanese+knives&i=kitchen&rh=n%3A5925789031%2Cp_36%3A3444812031&dc&page=\"+i+\"&rnid=3444809031&ref=sr_pg_\"+i)\n",
    "for url in GT1000LT2000: \n",
    "    driver=webdriver.Chrome('C:\\chromedriver.exe')\n",
    "    driver.get(url)\n",
    "    content=driver.page_source\n",
    "    soup = BeautifulSoup(content)\n",
    "    for article in soup.findAll(attrs={'class':'a-section a-spacing-small puis-padding-left-small puis-padding-right-small'}):\n",
    "        title=article.find('span',attrs={'class':'a-size-base-plus a-color-base a-text-normal'})\n",
    "        price=article.find('span',attrs={'class':'a-offscreen'})\n",
    "        titles_GT1000LT2000.append(title.text)\n",
    "        prices_GT1000LT2000.append(price)"
   ]
  },
  {
   "cell_type": "code",
   "execution_count": 57,
   "id": "343017aa",
   "metadata": {},
   "outputs": [
    {
     "data": {
      "text/html": [
       "<div>\n",
       "<style scoped>\n",
       "    .dataframe tbody tr th:only-of-type {\n",
       "        vertical-align: middle;\n",
       "    }\n",
       "\n",
       "    .dataframe tbody tr th {\n",
       "        vertical-align: top;\n",
       "    }\n",
       "\n",
       "    .dataframe thead th {\n",
       "        text-align: right;\n",
       "    }\n",
       "</style>\n",
       "<table border=\"1\" class=\"dataframe\">\n",
       "  <thead>\n",
       "    <tr style=\"text-align: right;\">\n",
       "      <th></th>\n",
       "      <th>Title</th>\n",
       "      <th>Price</th>\n",
       "    </tr>\n",
       "  </thead>\n",
       "  <tbody>\n",
       "    <tr>\n",
       "      <th>0</th>\n",
       "      <td>Kai Japanese Stainless Steel Chinese Cleaver -...</td>\n",
       "      <td>1949</td>\n",
       "    </tr>\n",
       "    <tr>\n",
       "      <th>1</th>\n",
       "      <td>Yingguns Ceramic Knife (4 Pack) Meat Cleaver K...</td>\n",
       "      <td>1111</td>\n",
       "    </tr>\n",
       "    <tr>\n",
       "      <th>2</th>\n",
       "      <td>Kai High Carbon Stainless Steel Chef's Knife, ...</td>\n",
       "      <td>1499</td>\n",
       "    </tr>\n",
       "    <tr>\n",
       "      <th>3</th>\n",
       "      <td>THW Sashimi Usuba Knife Stainless Steel Cutler...</td>\n",
       "      <td>1199</td>\n",
       "    </tr>\n",
       "    <tr>\n",
       "      <th>4</th>\n",
       "      <td>Kai Japanese Stainless Steel Chinese Cleaver -...</td>\n",
       "      <td>1949</td>\n",
       "    </tr>\n",
       "    <tr>\n",
       "      <th>...</th>\n",
       "      <td>...</td>\n",
       "      <td>...</td>\n",
       "    </tr>\n",
       "    <tr>\n",
       "      <th>109</th>\n",
       "      <td>Kai Japanese Stainless Steel Chinese Cleaver -...</td>\n",
       "      <td>1949</td>\n",
       "    </tr>\n",
       "    <tr>\n",
       "      <th>110</th>\n",
       "      <td>Kairos 5Pcs Kitchen Knife Set with Stand, High...</td>\n",
       "      <td>1284</td>\n",
       "    </tr>\n",
       "    <tr>\n",
       "      <th>111</th>\n",
       "      <td>SHIDHMI Professional Santoku Stainless Steel K...</td>\n",
       "      <td>1199</td>\n",
       "    </tr>\n",
       "    <tr>\n",
       "      <th>112</th>\n",
       "      <td>KRAFTYHOME Cake Cutter Knife and Server Set of...</td>\n",
       "      <td>1499</td>\n",
       "    </tr>\n",
       "    <tr>\n",
       "      <th>113</th>\n",
       "      <td>Kairos 7Pcs Kitchen Knife Set with Rotating St...</td>\n",
       "      <td>1633</td>\n",
       "    </tr>\n",
       "  </tbody>\n",
       "</table>\n",
       "<p>114 rows × 2 columns</p>\n",
       "</div>"
      ],
      "text/plain": [
       "                                                 Title Price\n",
       "0    Kai Japanese Stainless Steel Chinese Cleaver -...  1949\n",
       "1    Yingguns Ceramic Knife (4 Pack) Meat Cleaver K...  1111\n",
       "2    Kai High Carbon Stainless Steel Chef's Knife, ...  1499\n",
       "3    THW Sashimi Usuba Knife Stainless Steel Cutler...  1199\n",
       "4    Kai Japanese Stainless Steel Chinese Cleaver -...  1949\n",
       "..                                                 ...   ...\n",
       "109  Kai Japanese Stainless Steel Chinese Cleaver -...  1949\n",
       "110  Kairos 5Pcs Kitchen Knife Set with Stand, High...  1284\n",
       "111  SHIDHMI Professional Santoku Stainless Steel K...  1199\n",
       "112  KRAFTYHOME Cake Cutter Knife and Server Set of...  1499\n",
       "113  Kairos 7Pcs Kitchen Knife Set with Rotating St...  1633\n",
       "\n",
       "[114 rows x 2 columns]"
      ]
     },
     "execution_count": 57,
     "metadata": {},
     "output_type": "execute_result"
    }
   ],
   "source": [
    "GT1000LT2000=pd.DataFrame({'Title':titles_GT1000LT2000,'Price':prices_GT1000LT2000})\n",
    "import re\n",
    "for i in range(47):\n",
    "    GT1000LT2000['Price']=GT1000LT2000['Price'].apply(lambda x: re.sub('[^0-9]+', '', str(x)))\n",
    "GT1000LT2000"
   ]
  },
  {
   "cell_type": "code",
   "execution_count": 58,
   "id": "1bf44883",
   "metadata": {},
   "outputs": [],
   "source": [
    "titles_GT2000LT3000=[]\n",
    "prices_GT2000LT3000=[]\n",
    "GT2000LT3000=[]\n",
    "for i in range(1,5):\n",
    "  i=str(i)\n",
    "  GT2000LT3000.append(\"https://www.amazon.in/s?k=japanese+knives&i=kitchen&rh=n%3A5925789031%2Cp_36%3A3444813031&dc&page=\"+i+\"&rnid=3444809031&ref=sr_pg_\"+i)\n",
    "for url in GT2000LT3000: \n",
    "    driver=webdriver.Chrome('C:\\chromedriver.exe')\n",
    "    driver.get(url)\n",
    "    content=driver.page_source\n",
    "    soup = BeautifulSoup(content)\n",
    "    for article in soup.findAll(attrs={'class':'a-section a-spacing-small puis-padding-left-small puis-padding-right-small'}):\n",
    "        title=article.find('span',attrs={'class':'a-size-base-plus a-color-base a-text-normal'})\n",
    "        price=article.find('span',attrs={'class':'a-offscreen'})\n",
    "        titles_GT2000LT3000.append(title.text)\n",
    "        prices_GT2000LT3000.append(price)"
   ]
  },
  {
   "cell_type": "code",
   "execution_count": 59,
   "id": "80387b6a",
   "metadata": {},
   "outputs": [
    {
     "data": {
      "text/html": [
       "<div>\n",
       "<style scoped>\n",
       "    .dataframe tbody tr th:only-of-type {\n",
       "        vertical-align: middle;\n",
       "    }\n",
       "\n",
       "    .dataframe tbody tr th {\n",
       "        vertical-align: top;\n",
       "    }\n",
       "\n",
       "    .dataframe thead th {\n",
       "        text-align: right;\n",
       "    }\n",
       "</style>\n",
       "<table border=\"1\" class=\"dataframe\">\n",
       "  <thead>\n",
       "    <tr style=\"text-align: right;\">\n",
       "      <th></th>\n",
       "      <th>Title</th>\n",
       "      <th>Price</th>\n",
       "    </tr>\n",
       "  </thead>\n",
       "  <tbody>\n",
       "    <tr>\n",
       "      <th>0</th>\n",
       "      <td>Meyer Stainless Steel Sharp Japanese Santoku K...</td>\n",
       "      <td>2784</td>\n",
       "    </tr>\n",
       "    <tr>\n",
       "      <th>1</th>\n",
       "      <td>Meyer Stainless Steel Utility Knife | Knife fo...</td>\n",
       "      <td>2274</td>\n",
       "    </tr>\n",
       "    <tr>\n",
       "      <th>2</th>\n",
       "      <td>AGARO Galaxy 9 Pcs Kitchen Knife Set with Wood...</td>\n",
       "      <td>2199</td>\n",
       "    </tr>\n",
       "    <tr>\n",
       "      <th>3</th>\n",
       "      <td>Kai Japanese Stainless Steel Chinese Cleaver -...</td>\n",
       "      <td>1949</td>\n",
       "    </tr>\n",
       "    <tr>\n",
       "      <th>4</th>\n",
       "      <td>Japan Bargain Happy Sales HSSR200, Japanese Na...</td>\n",
       "      <td>2999</td>\n",
       "    </tr>\n",
       "    <tr>\n",
       "      <th>...</th>\n",
       "      <td>...</td>\n",
       "      <td>...</td>\n",
       "    </tr>\n",
       "    <tr>\n",
       "      <th>114</th>\n",
       "      <td>BLUE SPACE 9 pcs Chef Knife Set, Stainless Ste...</td>\n",
       "      <td>2399</td>\n",
       "    </tr>\n",
       "    <tr>\n",
       "      <th>115</th>\n",
       "      <td>Amour 6 Piece Ceramic Knives Set, Kitchen Chef...</td>\n",
       "      <td>2498</td>\n",
       "    </tr>\n",
       "    <tr>\n",
       "      <th>116</th>\n",
       "      <td>NILKANTH® Chef Knife, 8 inch Kitchen Knife Pre...</td>\n",
       "      <td>2499</td>\n",
       "    </tr>\n",
       "    <tr>\n",
       "      <th>117</th>\n",
       "      <td>HARIVAR MART™ Stainless Steel Kitchen Knife Se...</td>\n",
       "      <td>2349</td>\n",
       "    </tr>\n",
       "    <tr>\n",
       "      <th>118</th>\n",
       "      <td>Homez Decor� Designer Feather Antique Design C...</td>\n",
       "      <td>2300</td>\n",
       "    </tr>\n",
       "  </tbody>\n",
       "</table>\n",
       "<p>119 rows × 2 columns</p>\n",
       "</div>"
      ],
      "text/plain": [
       "                                                 Title Price\n",
       "0    Meyer Stainless Steel Sharp Japanese Santoku K...  2784\n",
       "1    Meyer Stainless Steel Utility Knife | Knife fo...  2274\n",
       "2    AGARO Galaxy 9 Pcs Kitchen Knife Set with Wood...  2199\n",
       "3    Kai Japanese Stainless Steel Chinese Cleaver -...  1949\n",
       "4    Japan Bargain Happy Sales HSSR200, Japanese Na...  2999\n",
       "..                                                 ...   ...\n",
       "114  BLUE SPACE 9 pcs Chef Knife Set, Stainless Ste...  2399\n",
       "115  Amour 6 Piece Ceramic Knives Set, Kitchen Chef...  2498\n",
       "116  NILKANTH® Chef Knife, 8 inch Kitchen Knife Pre...  2499\n",
       "117  HARIVAR MART™ Stainless Steel Kitchen Knife Se...  2349\n",
       "118  Homez Decor� Designer Feather Antique Design C...  2300\n",
       "\n",
       "[119 rows x 2 columns]"
      ]
     },
     "execution_count": 59,
     "metadata": {},
     "output_type": "execute_result"
    }
   ],
   "source": [
    "GT2000LT3000=pd.DataFrame({'Title':titles_GT2000LT3000,'Price':prices_GT2000LT3000})\n",
    "import re\n",
    "for i in range(47):\n",
    "    GT2000LT3000['Price']=GT2000LT3000['Price'].apply(lambda x: re.sub('[^0-9]+', '', str(x)))\n",
    "GT2000LT3000"
   ]
  },
  {
   "cell_type": "code",
   "execution_count": 60,
   "id": "2f0311f5",
   "metadata": {},
   "outputs": [],
   "source": [
    "titles_GT3000=[]\n",
    "prices_GT3000=[]\n",
    "GT3000=[]\n",
    "for i in range(1,40):\n",
    "  i=str(i)\n",
    "  GT3000.append(\"https://www.amazon.in/s?k=japanese+knives&i=kitchen&rh=n%3A5925789031%2Cp_36%3A3444814031&dc&page=\"+i+\"&rnid=3444809031&ref=sr_pg_2\"+i)\n",
    "for url in GT3000: \n",
    "    driver=webdriver.Chrome('C:\\chromedriver.exe')\n",
    "    driver.get(url)\n",
    "    content=driver.page_source\n",
    "    soup = BeautifulSoup(content)\n",
    "    for article in soup.findAll(attrs={'class':'a-section a-spacing-small puis-padding-left-small puis-padding-right-small'}):\n",
    "        title=article.find('span',attrs={'class':'a-size-base-plus a-color-base a-text-normal'})\n",
    "        price=article.find('span',attrs={'class':'a-offscreen'})\n",
    "        titles_GT3000.append(title.text)\n",
    "        prices_GT3000.append(price)"
   ]
  },
  {
   "cell_type": "code",
   "execution_count": 61,
   "id": "fc436d90",
   "metadata": {},
   "outputs": [
    {
     "data": {
      "text/html": [
       "<div>\n",
       "<style scoped>\n",
       "    .dataframe tbody tr th:only-of-type {\n",
       "        vertical-align: middle;\n",
       "    }\n",
       "\n",
       "    .dataframe tbody tr th {\n",
       "        vertical-align: top;\n",
       "    }\n",
       "\n",
       "    .dataframe thead th {\n",
       "        text-align: right;\n",
       "    }\n",
       "</style>\n",
       "<table border=\"1\" class=\"dataframe\">\n",
       "  <thead>\n",
       "    <tr style=\"text-align: right;\">\n",
       "      <th></th>\n",
       "      <th>Title</th>\n",
       "      <th>Price</th>\n",
       "    </tr>\n",
       "  </thead>\n",
       "  <tbody>\n",
       "    <tr>\n",
       "      <th>0</th>\n",
       "      <td>Shun TDM0707 Premier Chef's Knife, 10-Inch</td>\n",
       "      <td>17449</td>\n",
       "    </tr>\n",
       "    <tr>\n",
       "      <th>1</th>\n",
       "      <td>Kai Shun Premier Kitchen Knife_Pack of 2</td>\n",
       "      <td>19999</td>\n",
       "    </tr>\n",
       "    <tr>\n",
       "      <th>2</th>\n",
       "      <td>Kai Shun Classic Paring Kitchen Knife</td>\n",
       "      <td>7999</td>\n",
       "    </tr>\n",
       "    <tr>\n",
       "      <th>3</th>\n",
       "      <td>FAMCÜTE 8 Inch Professional Japanese Chef Knif...</td>\n",
       "      <td>13598</td>\n",
       "    </tr>\n",
       "    <tr>\n",
       "      <th>4</th>\n",
       "      <td>WEKIT Chef Knife 8 Inch, Professional Damascus...</td>\n",
       "      <td>18778</td>\n",
       "    </tr>\n",
       "    <tr>\n",
       "      <th>...</th>\n",
       "      <td>...</td>\n",
       "      <td>...</td>\n",
       "    </tr>\n",
       "    <tr>\n",
       "      <th>1260</th>\n",
       "      <td>Victorinox 5 Pc Knife Set - Stainless Steel Cu...</td>\n",
       "      <td>6930</td>\n",
       "    </tr>\n",
       "    <tr>\n",
       "      <th>1261</th>\n",
       "      <td>Shun VG-10 Stainless Steel Chef's Knife, 1 Pie...</td>\n",
       "      <td>13448</td>\n",
       "    </tr>\n",
       "    <tr>\n",
       "      <th>1262</th>\n",
       "      <td>Kai Benifuji Stainless Steel Chef Knife, 1-Pie...</td>\n",
       "      <td>3299</td>\n",
       "    </tr>\n",
       "    <tr>\n",
       "      <th>1263</th>\n",
       "      <td>Oncarnival High-Carbon Stainless Steel Chef Kn...</td>\n",
       "      <td>7699</td>\n",
       "    </tr>\n",
       "    <tr>\n",
       "      <th>1264</th>\n",
       "      <td>RICHARDSON SHEFFIELD Since 1839 Premium Stainl...</td>\n",
       "      <td>3654</td>\n",
       "    </tr>\n",
       "  </tbody>\n",
       "</table>\n",
       "<p>1265 rows × 2 columns</p>\n",
       "</div>"
      ],
      "text/plain": [
       "                                                  Title  Price\n",
       "0            Shun TDM0707 Premier Chef's Knife, 10-Inch  17449\n",
       "1              Kai Shun Premier Kitchen Knife_Pack of 2  19999\n",
       "2                 Kai Shun Classic Paring Kitchen Knife   7999\n",
       "3     FAMCÜTE 8 Inch Professional Japanese Chef Knif...  13598\n",
       "4     WEKIT Chef Knife 8 Inch, Professional Damascus...  18778\n",
       "...                                                 ...    ...\n",
       "1260  Victorinox 5 Pc Knife Set - Stainless Steel Cu...   6930\n",
       "1261  Shun VG-10 Stainless Steel Chef's Knife, 1 Pie...  13448\n",
       "1262  Kai Benifuji Stainless Steel Chef Knife, 1-Pie...   3299\n",
       "1263  Oncarnival High-Carbon Stainless Steel Chef Kn...   7699\n",
       "1264  RICHARDSON SHEFFIELD Since 1839 Premium Stainl...   3654\n",
       "\n",
       "[1265 rows x 2 columns]"
      ]
     },
     "execution_count": 61,
     "metadata": {},
     "output_type": "execute_result"
    }
   ],
   "source": [
    "GT3000=pd.DataFrame({'Title':titles_GT3000,'Price':prices_GT3000})\n",
    "import re\n",
    "for i in range(47):\n",
    "    GT3000['Price']=GT3000['Price'].apply(lambda x: re.sub('[^0-9]+', '', str(x)))\n",
    "GT3000"
   ]
  },
  {
   "cell_type": "code",
   "execution_count": 69,
   "id": "35dacc33",
   "metadata": {},
   "outputs": [],
   "source": [
    "s1=LT500.shape[0]\n",
    "s2=GT500LT1000.shape[0]\n",
    "s3=GT1000LT2000.shape[0]\n",
    "s4=GT2000LT3000.shape[0]\n",
    "s5=GT3000.shape[0]"
   ]
  },
  {
   "cell_type": "code",
   "execution_count": 75,
   "id": "632ec587",
   "metadata": {},
   "outputs": [],
   "source": [
    "amazon=pd.DataFrame([[s1,s2,s3,s4,s5]], columns=['Less than 500','Greater than 500 Less than 1000 ','Greater than 1000 Less than 2000',' Greater than 2000 Less than 3000','Greater than 3000'])"
   ]
  },
  {
   "cell_type": "code",
   "execution_count": 76,
   "id": "c400f9a0",
   "metadata": {},
   "outputs": [
    {
     "data": {
      "text/html": [
       "<div>\n",
       "<style scoped>\n",
       "    .dataframe tbody tr th:only-of-type {\n",
       "        vertical-align: middle;\n",
       "    }\n",
       "\n",
       "    .dataframe tbody tr th {\n",
       "        vertical-align: top;\n",
       "    }\n",
       "\n",
       "    .dataframe thead th {\n",
       "        text-align: right;\n",
       "    }\n",
       "</style>\n",
       "<table border=\"1\" class=\"dataframe\">\n",
       "  <thead>\n",
       "    <tr style=\"text-align: right;\">\n",
       "      <th></th>\n",
       "      <th>Less than 500</th>\n",
       "      <th>Greater than 500 Less than 1000</th>\n",
       "      <th>Greater than 1000 Less than 2000</th>\n",
       "      <th>Greater than 2000 Less than 3000</th>\n",
       "      <th>Greater than 3000</th>\n",
       "    </tr>\n",
       "  </thead>\n",
       "  <tbody>\n",
       "    <tr>\n",
       "      <th>0</th>\n",
       "      <td>375</td>\n",
       "      <td>228</td>\n",
       "      <td>114</td>\n",
       "      <td>119</td>\n",
       "      <td>1265</td>\n",
       "    </tr>\n",
       "  </tbody>\n",
       "</table>\n",
       "</div>"
      ],
      "text/plain": [
       "   Less than 500  Greater than 500 Less than 1000   \\\n",
       "0            375                               228   \n",
       "\n",
       "   Greater than 1000 Less than 2000   Greater than 2000 Less than 3000  \\\n",
       "0                               114                                119   \n",
       "\n",
       "   Greater than 3000  \n",
       "0               1265  "
      ]
     },
     "execution_count": 76,
     "metadata": {},
     "output_type": "execute_result"
    }
   ],
   "source": [
    "amazon"
   ]
  },
  {
   "cell_type": "code",
   "execution_count": 79,
   "id": "08fd49e4",
   "metadata": {},
   "outputs": [],
   "source": [
    "amazon.to_excel('amazon.xlsx')"
   ]
  },
  {
   "cell_type": "markdown",
   "id": "12b1da66",
   "metadata": {},
   "source": [
    "## B) tradestat.commerce.gov.in"
   ]
  },
  {
   "cell_type": "code",
   "execution_count": 22,
   "id": "7afc3cb7",
   "metadata": {},
   "outputs": [
    {
     "name": "stdout",
     "output_type": "stream",
     "text": [
      "time: 46 ms (started: 2023-03-30 15:17:09 +05:30)\n"
     ]
    }
   ],
   "source": [
    "%load_ext autotime\n",
    "import requests"
   ]
  },
  {
   "cell_type": "code",
   "execution_count": 44,
   "id": "8f8e62a9",
   "metadata": {},
   "outputs": [
    {
     "name": "stdout",
     "output_type": "stream",
     "text": [
      "time: 15 ms (started: 2023-03-30 15:46:31 +05:30)\n"
     ]
    }
   ],
   "source": [
    "country_list = {'JAPAN': '205'}\n",
    "month_list={'January':1,'Feburary':2,'March':3,'April':4,'May':5,'June':6,'July':7,'August':8,'September':9,'October':10,'November':11,'December':12}\n",
    "urls = {\n",
    "    'export': \"https://tradestat.commerce.gov.in/eidb/ecntcom.asp\",\n",
    "    'import': \"https://tradestat.commerce.gov.in/eidb/icntcom.asp\"\n",
    "}\n",
    "\n",
    "options = {\n",
    "    'radioFY': 1,\n",
    "    'hslevel':4,\n",
    "    'sort': 0,\n",
    "    'radioDAll':1,\n",
    "    'radioval': 1\n",
    "    \n",
    "    \n",
    "}\n",
    "session = requests.Session()\n",
    "                "
   ]
  },
  {
   "cell_type": "code",
   "execution_count": 45,
   "id": "9ac9eca6",
   "metadata": {},
   "outputs": [
    {
     "name": "stdout",
     "output_type": "stream",
     "text": [
      "time: 16 ms (started: 2023-03-30 15:46:31 +05:30)\n"
     ]
    }
   ],
   "source": [
    "\n",
    "def get_trade_data(req_type='export', year=2021,month='January', country='JAPAN'):\n",
    "    url = urls[req_type]\n",
    "\n",
    "    options['yy1'] = year\n",
    "    options['Mm1'] = month_list[month]\n",
    "    options['cntcode'] = country_list[country]\n",
    "\n",
    "    sample = session.post(url, options)\n",
    "    try:\n",
    "        # remove extra rows from bottom\n",
    "        response_df = pd.read_html(sample.content)[0].iloc[:-3, 1:6]\n",
    "        # remove previous year data\n",
    "        response_df = response_df.drop(\n",
    "            response_df.columns[2], axis=1)\n",
    "        # rename to \"value\"\n",
    "        response_df.rename(columns={response_df.columns[2]: 'value'}, inplace=True)\n",
    "        response_df.rename(columns={response_df.columns[3]: 'cagr'}, inplace=True)\n",
    "        response_df['country'] = country\n",
    "        response_df['year'] = year\n",
    "        response_df['month'] = month\n",
    "        return response_df\n",
    "\n",
    "    except:\n",
    "        print(f\"Unable to extract: {country} for {year}\")\n",
    "        pass"
   ]
  },
  {
   "cell_type": "code",
   "execution_count": 46,
   "id": "0604a4f8",
   "metadata": {},
   "outputs": [
    {
     "name": "stdout",
     "output_type": "stream",
     "text": [
      "time: 0 ns (started: 2023-03-30 15:46:32 +05:30)\n"
     ]
    }
   ],
   "source": [
    "\n",
    "def get_data(req_type='export'):\n",
    "    dfs = []\n",
    "    for year in range(2000, 2024):\n",
    "        for month in list(month_list.keys()):\n",
    "            for country in list(country_list.keys()):\n",
    "                print(f\"Extracting {country} - {year}\")\n",
    "                dfs.append(get_trade_data(req_type, year,month, country))\n",
    "\n",
    "    return pd.concat(dfs)"
   ]
  },
  {
   "cell_type": "code",
   "execution_count": 47,
   "id": "5ae935b2",
   "metadata": {},
   "outputs": [
    {
     "name": "stdout",
     "output_type": "stream",
     "text": [
      "Extracting JAPAN - 2000\n",
      "Extracting JAPAN - 2001\n",
      "Extracting JAPAN - 2002\n",
      "Extracting JAPAN - 2003\n",
      "Extracting JAPAN - 2004\n",
      "Extracting JAPAN - 2005\n",
      "Extracting JAPAN - 2006\n",
      "Extracting JAPAN - 2007\n",
      "Extracting JAPAN - 2008\n",
      "Extracting JAPAN - 2009\n",
      "Extracting JAPAN - 2010\n",
      "Extracting JAPAN - 2011\n",
      "Extracting JAPAN - 2012\n",
      "Extracting JAPAN - 2013\n",
      "Extracting JAPAN - 2014\n",
      "Extracting JAPAN - 2015\n",
      "Extracting JAPAN - 2016\n",
      "Extracting JAPAN - 2017\n",
      "Extracting JAPAN - 2018\n",
      "Extracting JAPAN - 2019\n",
      "Extracting JAPAN - 2020\n",
      "Extracting JAPAN - 2021\n",
      "Extracting JAPAN - 2022\n",
      "Extracting JAPAN - 2023\n",
      "time: 56.2 s (started: 2023-03-30 15:46:32 +05:30)\n"
     ]
    }
   ],
   "source": [
    "import_data = get_data('import')\n",
    "import_data.to_excel('./final_import_data.xlsx', index=False)"
   ]
  },
  {
   "cell_type": "code",
   "execution_count": 28,
   "id": "1c3f873a",
   "metadata": {},
   "outputs": [
    {
     "name": "stdout",
     "output_type": "stream",
     "text": [
      "time: 1.14 s (started: 2023-03-30 15:26:19 +05:30)\n"
     ]
    }
   ],
   "source": [
    "data=pd.read_excel(\"import_data.xlsx\")"
   ]
  }
 ],
 "metadata": {
  "kernelspec": {
   "display_name": "Python 3 (ipykernel)",
   "language": "python",
   "name": "python3"
  },
  "language_info": {
   "codemirror_mode": {
    "name": "ipython",
    "version": 3
   },
   "file_extension": ".py",
   "mimetype": "text/x-python",
   "name": "python",
   "nbconvert_exporter": "python",
   "pygments_lexer": "ipython3",
   "version": "3.9.12"
  }
 },
 "nbformat": 4,
 "nbformat_minor": 5
}
